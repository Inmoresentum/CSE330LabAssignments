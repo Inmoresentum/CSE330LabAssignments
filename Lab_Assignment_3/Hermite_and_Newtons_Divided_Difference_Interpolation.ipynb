{
  "nbformat": 4,
  "nbformat_minor": 2,
  "metadata": {
    "kernelspec": {
      "name": "python3",
      "display_name": "Python 3.8.3 64-bit"
    },
    "language_info": {
      "codemirror_mode": {
        "name": "ipython",
        "version": 3
      },
      "file_extension": ".py",
      "mimetype": "text/x-python",
      "name": "python",
      "nbconvert_exporter": "python",
      "pygments_lexer": "ipython3",
      "version": "3.8.3"
    },
    "colab": {
      "name": "Hermite_and_Newtons_Divided_Difference_Interpolation.ipynb",
      "provenance": []
    },
    "interpreter": {
      "hash": "46971d6258fae1e211635d8bf7f60d4d01846c4e42537e37b5cbd719f8de335b"
    }
  },
  "cells": [
    {
      "cell_type": "markdown",
      "source": [
        "Make sure you remove `raise NotImplementedError()` and fill in any place that says `# YOUR CODE HERE`, as well as your `NAME`, `ID`, and `LAB_SECTION` below:"
      ],
      "metadata": {
        "id": "GIn2_lx1Fwi3"
      }
    },
    {
      "cell_type": "code",
      "execution_count": 19,
      "source": [
        "NAME = \"ATHAR NOOR MOHAMMAD RAFEE\"\r\n",
        "ID = \"20101396\"\r\n",
        "LAB_SECTION = \"06\""
      ],
      "outputs": [],
      "metadata": {
        "id": "CqfsTmqwFwi6"
      }
    },
    {
      "cell_type": "markdown",
      "source": [
        "---"
      ],
      "metadata": {
        "id": "iSRPjc0fFwi7"
      }
    },
    {
      "cell_type": "markdown",
      "source": [
        "# Part 1: Hermite Interpolation\n",
        "---\n",
        "Hermite Interpolation is an example of a variant of the interpolation problem, where the interpolant matches one or more **derivatives of $f$**  at each of the nodes, in addition to the function values."
      ],
      "metadata": {
        "deletable": false,
        "editable": false,
        "nbgrader": {
          "cell_type": "markdown",
          "checksum": "9b7261b005274f20aab5b5157815cc4f",
          "grade": false,
          "grade_id": "title",
          "locked": true,
          "schema_version": 3,
          "solution": false,
          "task": false
        },
        "id": "wxZiLXYFFwi7"
      }
    },
    {
      "cell_type": "markdown",
      "source": [
        "## Importing the necessary libraries"
      ],
      "metadata": {
        "deletable": false,
        "editable": false,
        "nbgrader": {
          "cell_type": "markdown",
          "checksum": "2ac7b29da925009a6e6e93ce16cd1871",
          "grade": false,
          "grade_id": "intro1",
          "locked": true,
          "schema_version": 3,
          "solution": false,
          "task": false
        },
        "id": "j2U3yYz9Fwi8"
      }
    },
    {
      "cell_type": "code",
      "execution_count": 20,
      "source": [
        "import numpy as np\r\n",
        "import matplotlib.pyplot as plt\r\n",
        "from itertools import combinations\r\n",
        "from numpy.polynomial import Polynomial"
      ],
      "outputs": [],
      "metadata": {
        "deletable": false,
        "editable": false,
        "nbgrader": {
          "cell_type": "code",
          "checksum": "b3ce57ac45d5516f69d56b4a7c02a1d6",
          "grade": false,
          "grade_id": "import",
          "locked": true,
          "schema_version": 3,
          "solution": false,
          "task": false
        },
        "id": "AzOHYEVdFwi8"
      }
    },
    {
      "cell_type": "markdown",
      "source": [
        "## Creating the components for Hermite interpolation\n",
        "\n",
        "For the case of Hermite Interpolation, we look for a polynomial that matches both $f'(x_i)$ and $f(x_i)$ at the nodes $x_i = x_0,\\dots,x_n$. Say you have $n+1$ data points, $(x_0, y_0), (x_1, y_1), x_2, y_2), \\dots, (x_n, y_n)$ and you happen to know the first-order derivative at all of these points, namely, $(x_0, y_0 ^\\prime ), (x_1, y_1 ^\\prime ), x_2, y_2 ^\\prime ), \\dots ,(x_n, y_n ^\\prime )$. According to hermite interpolation, since there are $2n + 2$ conditions; $n+1$ for $f(x_i)$ plus $n+1$ for $f'(x_i)$; you can fit a polynomial of order $2n+1$. \n",
        "\n",
        "General form of a $2n+1$ degree Hermite polynomial:\n",
        "\n",
        "$$p_{2n+1} = \\sum_{k=0}^{n} \\left(f(x_k)h_k(x) + f'(x_k)\\hat{h}_k(x)\\right), \\tag{1}$$\n",
        "\n",
        "where $h_k$ and $\\hat{h}_k$ are defined using Lagrange basis functions by the following equations:\n",
        "\n",
        "$$h_k(x) = (1-2(x-x_k)l^\\prime_k(x_k))l^2_k(x_k), \\tag{2}$$\n",
        "\n",
        "and\n",
        "\n",
        "$$\\hat{h}_k(x) = (x-x_k)l^2_k(x_k), \\tag{3}$$\n",
        "\n",
        "where the Lagrange basis function being:\n",
        "\n",
        "$$l_k(x) = \\prod_{j=0, j\\neq k}^{n} \\frac{x-x_j}{x_k-x_j}. \\tag{4}$$\n",
        "\n",
        "**Note** that, we can rewrite Equation $(2)$ in this way,\n",
        "\n",
        "\\begin{align}\n",
        "h_k(x) &= \\left(1-2(x-x_k)l^\\prime_k(x_k) \\right)l^2_k(x_k) \\\\\n",
        "&= \\left(1 - 2xl^\\prime_k(x_k) + 2x_kl^\\prime_k(x_k) \\right)l^2_k(x_k) \\\\\n",
        "&= \\left(1 + 2x_kl^\\prime_k(x_k) - 2l'_k(x_k)x \\right) l^2_k(x_k) \\tag{5}\n",
        "\\end{align}\n",
        "Replacing $l^\\prime_k(x_k)$ with $m$, we get:\n",
        "$$h_k(x) = (1 - 2xm + 2x_km)l^2_k(x_k). \\tag{6}$$\n",
        "\n",
        "# Tasks:\n",
        "\n",
        "* The functions: `l(k, x)`, `h(k, x)` and `h_hat(k, x)` calculate the corresponding $l_k$, $h_k$, and $\\hat{h}_k$, respectively.\n",
        "\n",
        "* Function `l(k, x)` has already been defined for you. Your task is to complete the `h(k, x)`, `h_hat(k, x)`, and `hermit(x, y, y_prime)` functions.\n",
        "\n",
        "* Later we will draw some plots to check if the code is working.\n",
        "\n",
        "---"
      ],
      "metadata": {
        "deletable": false,
        "editable": false,
        "nbgrader": {
          "cell_type": "markdown",
          "checksum": "9368014a5a45cd31c846853230dae411",
          "grade": false,
          "grade_id": "intro2",
          "locked": true,
          "schema_version": 3,
          "solution": false,
          "task": false
        },
        "id": "BCfJM-RlFwi8"
      }
    },
    {
      "cell_type": "markdown",
      "source": [
        "### Part 1: Calculate $l_k$\n",
        "This function uses the following equation to calculate $l_k(x)$ and returns a polynomial:\n",
        "\n",
        "$$l_k(x) = \\prod_{j=0, j\\neq k}^{n} \\frac{x-x_j}{x_k-x_j}.$$"
      ],
      "metadata": {
        "deletable": false,
        "editable": false,
        "nbgrader": {
          "cell_type": "markdown",
          "checksum": "b73facf56ebe52af4d34ce6aed213204",
          "grade": false,
          "grade_id": "part01_intro",
          "locked": true,
          "schema_version": 3,
          "solution": false,
          "task": false
        },
        "id": "po540LSeFwi9"
      }
    },
    {
      "cell_type": "code",
      "execution_count": 21,
      "source": [
        "# Already written for you.\r\n",
        "\r\n",
        "def l(k, x):\r\n",
        "    n = len(x)\r\n",
        "    assert (k < len(x))\r\n",
        "    \r\n",
        "    x_k = x[k]\r\n",
        "    x_copy = np.delete(x, k)\r\n",
        "    \r\n",
        "    denominator = np.prod(x_copy - x_k)\r\n",
        "    \r\n",
        "    coeff = []\r\n",
        "    \r\n",
        "    for i in range(n):\r\n",
        "        coeff.append(sum([np.prod(x) for x in combinations(x_copy, i)]) * (-1)**(i) / denominator)\r\n",
        "    \r\n",
        "    coeff.reverse()\r\n",
        "    \r\n",
        "    return Polynomial(coeff)"
      ],
      "outputs": [],
      "metadata": {
        "deletable": false,
        "editable": false,
        "nbgrader": {
          "cell_type": "code",
          "checksum": "193776fb462b953e4cc901203895dce4",
          "grade": false,
          "grade_id": "l_ans",
          "locked": true,
          "schema_version": 3,
          "solution": false,
          "task": false
        },
        "id": "BfQ4jrlsFwi9"
      }
    },
    {
      "cell_type": "markdown",
      "source": [
        "### Part 2: Calculate $h_k$\r\n",
        "This function calculates $h_k(x)$ using the following equation:\r\n",
        "$$h_k(x) = \\left(1 + 2x_kl^\\prime_k(x_k) - 2l'_k(x_k)x \\right) l^2_k(x_k).$$\r\n",
        "\r\n",
        "This equation is basically a multiplication of two polynomials.\r\n",
        "\r\n",
        "First polynomial: $1 + 2x_kl^\\prime_k(x_k) - 2l'_k(x_k)x$.\r\n",
        "\r\n",
        "Second polynomial: $l^2_k(x_k)$.\r\n",
        "\r\n",
        "The `coeff` variable should contain a python list of coefficient values for the **first** polynomial of the equation. These coefficient values are used to create a polynomial `p`."
      ],
      "metadata": {
        "deletable": false,
        "editable": false,
        "nbgrader": {
          "cell_type": "markdown",
          "checksum": "2b2776844ce83abcacb6b0ba6028ccd0",
          "grade": false,
          "grade_id": "part02_intro",
          "locked": true,
          "schema_version": 3,
          "solution": false,
          "task": false
        },
        "id": "b0MNNFZKFwi-"
      }
    },
    {
      "cell_type": "code",
      "execution_count": 22,
      "source": [
        "def h(k, x):\r\n",
        "    # initialize with None. Replace with appropriate values/function calls\r\n",
        "    # initialize with None. Replace with appropriate values/function calls\r\n",
        "    l_k = l(k, x)\r\n",
        "    l_k_sqr = l_k * l_k\r\n",
        "    l_k_prime = l_k.deriv(1)\r\n",
        "    coeff = [1 + (2 * x[k] * l_k_prime(x[k])), - 2 * l_k_prime(x[k])]\r\n",
        "    p = Polynomial(coeff)\r\n",
        "\r\n",
        "    # --------------------------------------------\r\n",
        "    # YOUR CODE HERE\r\n",
        "    # --------------------------------------------\r\n",
        "    \r\n",
        "    return p * l_k_sqr"
      ],
      "outputs": [],
      "metadata": {
        "deletable": false,
        "nbgrader": {
          "cell_type": "code",
          "checksum": "b40e0245554b77b7aeb6e6fada5c28f9",
          "grade": false,
          "grade_id": "h_ans",
          "locked": false,
          "schema_version": 3,
          "solution": true,
          "task": false
        },
        "id": "Q2kC5VdRFwi-"
      }
    },
    {
      "cell_type": "code",
      "execution_count": 23,
      "source": [
        "# Test case for the h(k, x) function\r\n"
      ],
      "outputs": [],
      "metadata": {
        "deletable": false,
        "editable": false,
        "nbgrader": {
          "cell_type": "code",
          "checksum": "ed68ee86c0097c7ab30e7a811d6a4670",
          "grade": true,
          "grade_id": "h_test",
          "locked": true,
          "points": 2.5,
          "schema_version": 3,
          "solution": false,
          "task": false
        },
        "id": "0Qq5MnebFwi-"
      }
    },
    {
      "cell_type": "markdown",
      "source": [
        "### Part 3: Calculate $\\hat{h}_k$\n",
        "This function calculates $\\hat{h}_k(x)$ using the following equation:\n",
        "\n",
        "$$\\hat{h}_k(x) = (x-x_k)l^2_k(x_k).$$\n",
        "\n",
        "This equation is also a multiplication of two polynomials.\n",
        "\n",
        "First polynomial: $x-x_k$.\n",
        "\n",
        "Second polynomial:  $l^2_k(x_k)$.\n",
        "\n",
        "The `coeff` variable should contain a python list of coefficient values for the **first** polynomial of the equation. These coefficient values are used to create a polynomial `p`."
      ],
      "metadata": {
        "deletable": false,
        "editable": false,
        "nbgrader": {
          "cell_type": "markdown",
          "checksum": "e95ffdba5dfcaf981dc8b884538cb7fa",
          "grade": false,
          "grade_id": "part03_intro",
          "locked": true,
          "schema_version": 3,
          "solution": false,
          "task": false
        },
        "id": "1lrQ3K9vFwi_"
      }
    },
    {
      "cell_type": "code",
      "execution_count": 24,
      "source": [
        "def h_hat(k, x):\r\n",
        "    # Initialize with none\r\n",
        "    l_k = l(k, x)\r\n",
        "    l_k_sqr = l_k * l_k\r\n",
        "    coeff = [-x[k], 1]\r\n",
        "    p = Polynomial(coeff)\r\n",
        "    \r\n",
        "    # --------------------------------------------\r\n",
        "    # YOUR CODE HERE\r\n",
        "    # --------------------------------------------\r\n",
        "    \r\n",
        "    return p * l_k_sqr"
      ],
      "outputs": [],
      "metadata": {
        "deletable": false,
        "nbgrader": {
          "cell_type": "code",
          "checksum": "526567f27fdc6b0c693944715388aeb3",
          "grade": false,
          "grade_id": "h_hat_ans",
          "locked": false,
          "schema_version": 3,
          "solution": true,
          "task": false
        },
        "id": "TmKtcCWsFwi_"
      }
    },
    {
      "cell_type": "code",
      "execution_count": 25,
      "source": [
        "# Test case for the h(k, x) function\r\n"
      ],
      "outputs": [],
      "metadata": {
        "deletable": false,
        "editable": false,
        "nbgrader": {
          "cell_type": "code",
          "checksum": "9e3d0b6a829afdc0a209f36fe70d0a1e",
          "grade": true,
          "grade_id": "h_hat_test",
          "locked": true,
          "points": 2.5,
          "schema_version": 3,
          "solution": false,
          "task": false
        },
        "id": "5B_zByspFwi_"
      }
    },
    {
      "cell_type": "markdown",
      "source": [
        "### Part 4: The Hermite Polynomial\n",
        "This function uses the following equation:\n",
        "\n",
        "$$p_{2n+1} = \\sum_{k=0}^{n} \\left(f(x_k)h_k(x) + f'(x_k)\\hat{h}_k(x)\\right).$$\n",
        "\n",
        "The polynomial denoted by the equation is calculated by the variable `f`."
      ],
      "metadata": {
        "deletable": false,
        "editable": false,
        "nbgrader": {
          "cell_type": "markdown",
          "checksum": "cd0d1d10b688aec869dfd36a17eda759",
          "grade": false,
          "grade_id": "part04_intro",
          "locked": true,
          "schema_version": 3,
          "solution": false,
          "task": false
        },
        "id": "t1HpQ5OvFwjA"
      }
    },
    {
      "cell_type": "code",
      "execution_count": 26,
      "source": [
        "def hermit(x, y, y_prime):\r\n",
        "    assert len(x) == len(y)\r\n",
        "    assert len(y) == len(y_prime)\r\n",
        "    \r\n",
        "    f = Polynomial(0)\r\n",
        "    # --------------------------------------------\r\n",
        "    # YOUR CODE HERE\r\n",
        "    for i in range(len(y)):\r\n",
        "        f += (y[i] * h(i, x)) + (y_prime[i] * h_hat(i, x))\r\n",
        "    # --------------------------------------------\r\n",
        "    return f"
      ],
      "outputs": [],
      "metadata": {
        "deletable": false,
        "nbgrader": {
          "cell_type": "code",
          "checksum": "238ae82cc84e0f1db6ee42946346ae4a",
          "grade": false,
          "grade_id": "part04_ans",
          "locked": false,
          "schema_version": 3,
          "solution": true,
          "task": false
        },
        "id": "jxNAGT-sFwjA"
      }
    },
    {
      "cell_type": "markdown",
      "source": [
        "## Testing our methods by plotting graphs.\n",
        "\n",
        "**Note:** \n",
        "\n",
        "* For each of the 5 plots, there will be 2 curves plotted: one being the original function, and the other being the interpolated curve. \n",
        "\n",
        "* The original functions are displayed in orange color, while the hermite interpolated curves are in blue.\n",
        "\n",
        "* `x`, `y`, and `y_prime` contain $x_i$, $f(x_i)$, and $f'(x_i)$ of the given nodes of the original function $f$.\n",
        "\n",
        "Upon calling the `hermit()` function, it returns a polynomial `f`. For example, for plot 1, it is called `f3`.\n",
        "\n",
        "In general, a polynomial may look like the following: $f = 1 + 2x + 3x^2$. Next, we pass in a number of $x$ values to the polynomial by calling the `.linspace()` function on the polynomial object using `f.linspace()`. This function outputs a tuple, which is stored in a variable called `data`. First element of `data` contains a 1D numpy array of $x_i$ values generated by `linspace()`, and the second element of `data` contains a 1D numpy array of the corresponding $y_i$ values outputted by our example polynomial:\n",
        "$f = 1 + 2x + 3x^2$. \n",
        "\n",
        "Using `test_x`, we generate a range of $x_i$ values to plot the original function, and `test_y` contains the corresponding $y_i$ values of the original function. For the first plot, our original function is the *sine curve*.\n",
        "\n",
        "For all the plots:\n",
        "\n",
        "`plt.plot(test_x, test_y)` plots the original function.\n",
        "\n",
        "`plt.plot(data[0], data[1])` plots the interpolated polynomial."
      ],
      "metadata": {
        "deletable": false,
        "editable": false,
        "nbgrader": {
          "cell_type": "markdown",
          "checksum": "be144e5dff21332b4b93a63e59a035c2",
          "grade": false,
          "grade_id": "plot_intro",
          "locked": true,
          "schema_version": 3,
          "solution": false,
          "task": false
        },
        "id": "oKkwd8VkFwjA"
      }
    },
    {
      "cell_type": "code",
      "execution_count": 27,
      "source": [
        "pi      = np.pi\r\n",
        "x       = np.array([0.0, pi/2.0,  pi, 3.0*pi/2.0])\r\n",
        "y       = np.array([0.0,    1.0, 0.0,       -1.0])\r\n",
        "y_prime = np.array([1.0,    0.0, 1.0,        0.0])"
      ],
      "outputs": [],
      "metadata": {
        "deletable": false,
        "editable": false,
        "nbgrader": {
          "cell_type": "code",
          "checksum": "9e619e399993ba9b52b9a5acfc6d952a",
          "grade": false,
          "grade_id": "samples",
          "locked": true,
          "schema_version": 3,
          "solution": false,
          "task": false
        },
        "id": "iLxvmh8-FwjA"
      }
    },
    {
      "cell_type": "markdown",
      "source": [
        "**Plot 1:** trying to interpolate a sine curve (`np.sin()`) using first 2 nodes in `x` and `y`, and their corresponding derivative in `y_prime`."
      ],
      "metadata": {
        "deletable": false,
        "editable": false,
        "nbgrader": {
          "cell_type": "markdown",
          "checksum": "62a455aacd036963d695b540c90f7cd0",
          "grade": false,
          "grade_id": "plot01",
          "locked": true,
          "schema_version": 3,
          "solution": false,
          "task": false
        },
        "id": "Nrs9PbhaFwjB"
      }
    },
    {
      "cell_type": "code",
      "execution_count": 28,
      "source": [
        "n      = 1\r\n",
        "f3     = hermit(x[:(n+1)], y[:(n+1)], y_prime[:(n+1)])\r\n",
        "data   = f3.linspace(n=50, domain=[-3, 3])\r\n",
        "test_x = np.linspace(-3, 3, 50, endpoint=True)\r\n",
        "test_y = np.sin(test_x)\r\n",
        "\r\n",
        "plt.plot(data[0], data[1])\r\n",
        "plt.plot(test_x, test_y)\r\n",
        "plt.show()"
      ],
      "outputs": [
        {
          "output_type": "display_data",
          "data": {
            "text/plain": [
              "<Figure size 432x288 with 1 Axes>"
            ],
            "image/png": "[encoded data removed]"
          },
          "metadata": {
            "needs_background": "light"
          }
        }
      ],
      "metadata": {
        "deletable": false,
        "editable": false,
        "nbgrader": {
          "cell_type": "code",
          "checksum": "339647de9a7edf9be53eca2b91d4219c",
          "grade": true,
          "grade_id": "plot01_test",
          "locked": true,
          "points": 3,
          "schema_version": 3,
          "solution": false,
          "task": false
        },
        "id": "ESW1g2TeFwjB"
      }
    },
    {
      "cell_type": "markdown",
      "source": [
        "**Plot 2:** trying to interpolate a sine curve (`np.sin()`) using first 3 nodes in `x` and `y` and their corresponding derivative in `y_prime`."
      ],
      "metadata": {
        "deletable": false,
        "editable": false,
        "nbgrader": {
          "cell_type": "markdown",
          "checksum": "d8f7bf96ae4f35419f880d25e72cff09",
          "grade": false,
          "grade_id": "plot02",
          "locked": true,
          "schema_version": 3,
          "solution": false,
          "task": false
        },
        "id": "79U_21hjFwjB"
      }
    },
    {
      "cell_type": "code",
      "execution_count": 29,
      "source": [
        "n      = 2\r\n",
        "f5     = hermit(x[:(n+1)], y[:(n+1)], y_prime[:(n+1)])\r\n",
        "data   = f5.linspace(n=50, domain=[-0.7, 3])\r\n",
        "test_x = np.linspace(-2*pi, 2*pi, 50, endpoint=True)\r\n",
        "test_y = np.sin(test_x)\r\n",
        "\r\n",
        "plt.plot(test_x, test_y) # 25-\r\n",
        "plt.plot(data[0], data[1]) # 10-33\r\n",
        "plt.show()\r\n"
      ],
      "outputs": [
        {
          "output_type": "display_data",
          "data": {
            "text/plain": [
              "<Figure size 432x288 with 1 Axes>"
            ],
            "image/png": "[encoded data removed]"
          },
          "metadata": {
            "needs_background": "light"
          }
        }
      ],
      "metadata": {
        "deletable": false,
        "editable": false,
        "nbgrader": {
          "cell_type": "code",
          "checksum": "ae97a23fe107b570f115355c197b6884",
          "grade": true,
          "grade_id": "plot02_ans",
          "locked": true,
          "points": 3,
          "schema_version": 3,
          "solution": false,
          "task": false
        },
        "id": "m5AVko4TFwjB"
      }
    },
    {
      "cell_type": "markdown",
      "source": [
        "**Plot 3:** trying to interpolate a sine curve (`np.sin()`) using first 4 nodes in `x` and `y` and their corresponding derivative in `y_prime`."
      ],
      "metadata": {
        "deletable": false,
        "editable": false,
        "nbgrader": {
          "cell_type": "markdown",
          "checksum": "aae683a514e99dfecaa8672e1d6a4cb3",
          "grade": false,
          "grade_id": "plot03",
          "locked": true,
          "schema_version": 3,
          "solution": false,
          "task": false
        },
        "id": "Kvd2ZvoWFwjB"
      }
    },
    {
      "cell_type": "code",
      "execution_count": 30,
      "source": [
        "n      = 3\r\n",
        "f7     = hermit(x[:(n+1)], y[:(n+1)], y_prime[:(n+1)])\r\n",
        "data   = f7.linspace(n=50, domain=[-0.3, 3])\r\n",
        "test_x = np.linspace(-2*pi, 2*pi, 50, endpoint=True)\r\n",
        "test_y = np.sin(test_x)\r\n",
        "\r\n",
        "plt.plot(data[0], data[1])\r\n",
        "plt.plot(test_x, test_y)\r\n",
        "plt.show()\r\n"
      ],
      "outputs": [
        {
          "output_type": "display_data",
          "data": {
            "text/plain": [
              "<Figure size 432x288 with 1 Axes>"
            ],
            "image/png": "[encoded data removed]"
          },
          "metadata": {
            "needs_background": "light"
          }
        }
      ],
      "metadata": {
        "deletable": false,
        "editable": false,
        "nbgrader": {
          "cell_type": "code",
          "checksum": "c3ab445e93c1e1a0c263b5f43e0b4aa6",
          "grade": true,
          "grade_id": "plot03_ans",
          "locked": true,
          "points": 3,
          "schema_version": 3,
          "solution": false,
          "task": false
        },
        "id": "z9MjP8aeFwjC"
      }
    },
    {
      "cell_type": "markdown",
      "source": [
        "**Plot 4:** trying to interpolate an exponential curve (`np.exp()`) using all nodes in `x` and `y` and their corresponding derivatives in `y_prime`."
      ],
      "metadata": {
        "deletable": false,
        "editable": false,
        "nbgrader": {
          "cell_type": "markdown",
          "checksum": "d8edc2554aa6f2946081a47711e0f556",
          "grade": false,
          "grade_id": "plot04",
          "locked": true,
          "schema_version": 3,
          "solution": false,
          "task": false
        },
        "id": "bYTAO-5nFwjC"
      }
    },
    {
      "cell_type": "code",
      "execution_count": 31,
      "source": [
        "#defining new set of given node information: x, y and y'\r\n",
        "x       = np.array([0.0, 1.0,          2.0       ])\r\n",
        "y       = np.array([1.0, 2.71828183,  54.59815003])\r\n",
        "y_prime = np.array([0.0, 5.43656366, 218.39260013])\r\n",
        "\r\n",
        "\r\n",
        "f7      = hermit( x, y, y_prime)\r\n",
        "data    = f7.linspace(n=50, domain=[-0.5, 2.2])\r\n",
        "test_x  = np.linspace(-0.5, 2.2, 50, endpoint=True)\r\n",
        "test_y  = np.exp(test_x**2)\r\n",
        "\r\n",
        "plt.plot(data[0], data[1])\r\n",
        "plt.plot(test_x, test_y)\r\n",
        "plt.show()\r\n",
        "\r\n"
      ],
      "outputs": [
        {
          "output_type": "display_data",
          "data": {
            "text/plain": [
              "<Figure size 432x288 with 1 Axes>"
            ],
            "image/png": "[encoded data removed]"
          },
          "metadata": {
            "needs_background": "light"
          }
        }
      ],
      "metadata": {
        "deletable": false,
        "editable": false,
        "nbgrader": {
          "cell_type": "code",
          "checksum": "f84cb1413466ef1286ed8708e2494e3b",
          "grade": true,
          "grade_id": "plot04_test",
          "locked": true,
          "points": 3,
          "schema_version": 3,
          "solution": false,
          "task": false
        },
        "id": "TKecI08PFwjC"
      }
    },
    {
      "cell_type": "markdown",
      "source": [
        "**Plot 5:** trying to interpolate $y = (x-3)^2 + 1$ using all nodes in `x` and `y` and their corresponding derivatives in `y_prime`.\n",
        "\n",
        "For this plot you might be able to see only one curve due to the two curves overlapping. This means that our polynomial is accurately interpolating the original function.\n"
      ],
      "metadata": {
        "deletable": false,
        "editable": false,
        "nbgrader": {
          "cell_type": "markdown",
          "checksum": "5419db887410ebe73b42fa5f21ffc50e",
          "grade": false,
          "grade_id": "plot05",
          "locked": true,
          "schema_version": 3,
          "solution": false,
          "task": false
        },
        "id": "ECJPK_4AFwjC"
      }
    },
    {
      "cell_type": "code",
      "execution_count": 32,
      "source": [
        "#defining new set of given node information: x, y and y'\r\n",
        "x       = np.array([1.0, 3.0, 5.0])\r\n",
        "y       = np.array([5.0, 1.0, 5.0])\r\n",
        "y_prime = np.array([-4.0, 0.0, 4.0])\r\n",
        "\r\n",
        "f7      = hermit( x, y, y_prime)\r\n",
        "data    = f7.linspace(n=50, domain=[-10, 10])\r\n",
        "test_x  = np.linspace(-10, 10, 50, endpoint=True)\r\n",
        "test_y  = (test_x-3)**2 + 1\r\n",
        "\r\n",
        "plt.plot(data[0], data[1])\r\n",
        "plt.plot(test_x, test_y)\r\n",
        "plt.show()"
      ],
      "outputs": [
        {
          "output_type": "display_data",
          "data": {
            "text/plain": [
              "<Figure size 432x288 with 1 Axes>"
            ],
            "image/png": "[encoded data removed]"
          },
          "metadata": {
            "needs_background": "light"
          }
        }
      ],
      "metadata": {
        "deletable": false,
        "editable": false,
        "nbgrader": {
          "cell_type": "code",
          "checksum": "92cc6293f29ebf42544cedf49e4c1fc5",
          "grade": true,
          "grade_id": "plot05_test",
          "locked": true,
          "points": 3,
          "schema_version": 3,
          "solution": false,
          "task": false
        },
        "id": "I9aXUhMbFwjC"
      }
    },
    {
      "cell_type": "markdown",
      "source": [
        "## Part 2: Polynomial Interpolation Using Newton's Divided Difference Form\n",
        "---\n"
      ],
      "metadata": {
        "deletable": false,
        "editable": false,
        "nbgrader": {
          "cell_type": "markdown",
          "checksum": "c07a0720672d1b686830ce5cef78046c",
          "grade": false,
          "grade_id": "cell-580b64f506c61583",
          "locked": true,
          "schema_version": 3,
          "solution": false,
          "task": false
        },
        "id": "U81sYKsUFwjD"
      }
    },
    {
      "cell_type": "markdown",
      "source": [
        "### Newton's Divided Difference Form\n",
        "\n",
        "Newton form of a $n$ degree polynomial:\n",
        "\n",
        "$$p_n(x) = \\sum_{k=0}^{n} a_kn_k(x),$$\n",
        "where the basis is:\n",
        "$$n_k(x) = \\prod_{j=0}^{k-1}(x-x_j),$$\n",
        "$$ n_0(x)=1,$$\n",
        "\n",
        "and the coefficients are: $$a_k = f[x_0, x_1, ..., x_k],$$\n",
        "\n",
        "where the notation $f[x_0, x_1,\\dots,x_k]$ denotes the divided difference.\n",
        "\n",
        "By expanding the Newton form, we get:\n",
        "\n",
        "$$p(x) = f [x_0] + (x-x_0) f[x_0,x_1] + (x-x_0) (x-x_1) f[x_0,x_1,x_2] + \\dots + (x-x_0) (x-x_1) \\dots (x-x_{k-1}) f[x_0, x_1, \\dots, x_k]$$\n",
        "\n",
        "### Tasks: \n",
        "1. Complete the `calc_div_diff(x,y)` function which takes input `x` and `y`, and calculates all the divided differences. You may use the lambda function `difference()` inside the `calc_div_diff(x,y)` function to calculate the divided differences.\n",
        "\n",
        "2. Complete the `__call__()` function which takes an input `x`, and calculates `y` using all the difference coefficients. `x` can be a single value or a numpy. In this case, it is a numpy array.\n",
        "\n",
        "`res` variable must contain all results (corresponding y for x)."
      ],
      "metadata": {
        "deletable": false,
        "editable": false,
        "nbgrader": {
          "cell_type": "markdown",
          "checksum": "030540dd5ee10acfca978c35d1e76cb8",
          "grade": false,
          "grade_id": "cell-95fa6d3532e84eff",
          "locked": true,
          "schema_version": 3,
          "solution": false,
          "task": false
        },
        "id": "Y2kQHducFwjD"
      }
    },
    {
      "cell_type": "code",
      "execution_count": 33,
      "source": [
        "class Newtons_Divided_Differences:\r\n",
        "  \r\n",
        "    def __init__(self, differences):\r\n",
        "        self.differences = differences\r\n",
        "\r\n",
        "    def __call__(self, x):\r\n",
        "        '''\r\n",
        "        this function is for calculating y from given x using all the difference coefficients\r\n",
        "        x can be a single value or a numpy\r\n",
        "        the formula being used:\r\n",
        "        f(x) = f [x0] + (x-x0) f[x0,x1] + (x-x0) (x-x1) f[x0,x1,x2] + . . . + (x-x0) (x-x1) . . . (x-xk-1) f[x0, x1, . . ., xk]\r\n",
        "\r\n",
        "        work on this after implementing 'calc_div_diff'. Then you should have\r\n",
        "        f[x0], f[x0,x1]. . . . . ., f[x0, x1, . . ., xk] stored in self.differences\r\n",
        "\r\n",
        "        'res' variable must return all the results (corresponding y for x)\r\n",
        "        '''\r\n",
        "        n = len(data_x) - 1  # Degree of polynomial\r\n",
        "        res = self.differences[n]#Initialization to avoid runtime error. You can change this line if you wish\r\n",
        "        for k in range(1, n + 1):\r\n",
        "            res = ((x - data_x[n - k]) * res) + self.differences[n - k]\r\n",
        "        #----------------------------------------------\r\n",
        "        # YOUR CODE HERE\r\n",
        "        # raise NotImplementedError()\r\n",
        "        #----------------------------------------------\r\n",
        "        return res\r\n"
      ],
      "outputs": [],
      "metadata": {
        "deletable": false,
        "nbgrader": {
          "cell_type": "code",
          "checksum": "50cdde63e49e009a199201f86744564a",
          "grade": false,
          "grade_id": "cell-9e446c528b62c87f",
          "locked": false,
          "schema_version": 3,
          "solution": true,
          "task": false
        },
        "id": "WAkzkahZFwjD"
      }
    },
    {
      "cell_type": "code",
      "execution_count": 34,
      "source": [
        "# basic rule for calculating the difference, implanted in the lambda function. \r\n",
        "# You may use it if you wish\r\n",
        "difference = lambda y2, y1, x2, x1: (y2-y1)/(x2-x1)\r\n",
        "\r\n",
        "def calc_div_diff(x,y):\r\n",
        "    assert(len(x)==len(y))\r\n",
        "    #write this function to calculate all the divided differences in the list 'b'\r\n",
        "    b = []\r\n",
        "    for i in range(len(x)):\r\n",
        "        b.append(y[i])\r\n",
        "\r\n",
        "    for j in range(1, len(x)):\r\n",
        "        for i in range(len(x) - 1, j - 1, -1):\r\n",
        "            b[i] = (b[i] - b[i-1]) / (x[i] - x[i-j])\r\n",
        "    #----------------------------------------------\r\n",
        "    # YOUR CODE HERE\r\n",
        "    #raise NotImplementedError()\r\n",
        "    #----------------------------------------------\r\n",
        "    return b"
      ],
      "outputs": [],
      "metadata": {
        "deletable": false,
        "nbgrader": {
          "cell_type": "code",
          "checksum": "abd6bbf6334a986a608c38206f702989",
          "grade": false,
          "grade_id": "cell-fbe4c16afb6b3b32",
          "locked": false,
          "schema_version": 3,
          "solution": true,
          "task": false
        },
        "id": "9B65YyxjFwjD"
      }
    },
    {
      "cell_type": "code",
      "execution_count": 35,
      "source": [
        "# Test case for the calc_div_diff(x,y) function.\r\n",
        "\r\n",
        "data_x = [-3.,-2.,-1.,0.,1.,3.,4.]\r\n",
        "data_y = [-60.,-80.,6.,1.,45.,30.,16.]\r\n",
        "\r\n",
        "test = calc_div_diff(data_x, data_y)\r\n",
        "\r\n",
        "assert len(test) == len(data_x)\r\n"
      ],
      "outputs": [],
      "metadata": {
        "deletable": false,
        "editable": false,
        "nbgrader": {
          "cell_type": "code",
          "checksum": "a23dd58fcab86885a166b1e138b9ea08",
          "grade": true,
          "grade_id": "cell-72b9329c6c32517e",
          "locked": true,
          "points": 5,
          "schema_version": 3,
          "solution": false,
          "task": false
        },
        "id": "2CE0Zw05FwjE"
      }
    },
    {
      "cell_type": "markdown",
      "source": [
        "### Plotting the polynomial\n",
        "* `data_x` and `data_y` are the coordinates of the given nodes.\n",
        "\n",
        "* `differences` is a list which contains the divided differences as each of its elements: $f[x_0], f[x_0,x_1], f[x_0,x_1,x_2], \\dots$\n",
        "\n",
        "* `obj` is an object of type `Newtons_Divided_Differences`. Creating the object runs the constructor of the class where the `difference` are stored in `self.differences`.\n",
        "\n",
        "* `X` contains $x_i$ values through which we want to plot our polynomial.\n",
        "\n",
        "* Calling the object using `obj(X)` executes the `__call__()` function of the class, which returns a numpy array containing the corresponding $y_i$ values, and storing them in variable `F`.\n",
        "\n",
        "* Using `plt.plot(X,F)`, we plot the $(x_i, y_i)$ pairs of the polynomial."
      ],
      "metadata": {
        "deletable": false,
        "editable": false,
        "nbgrader": {
          "cell_type": "markdown",
          "checksum": "e2b6e9e71eaf31b857393044c2768ac0",
          "grade": false,
          "grade_id": "cell-f6a9f264b02b2642",
          "locked": true,
          "schema_version": 3,
          "solution": false,
          "task": false
        },
        "id": "-cGVvmN9FwjE"
      }
    },
    {
      "cell_type": "code",
      "execution_count": 36,
      "source": [
        "import numpy as np\r\n",
        "import matplotlib.pyplot as plt\r\n",
        "\r\n",
        "data_x = np.array([-3.,-2.,-1.,0.,1.,3.,4.])\r\n",
        "data_y = np.array([-60.,-80.,6.,1.,45.,30.,16.])\r\n",
        "differences = calc_div_diff(list(data_x), list(data_y))\r\n",
        "p = Newtons_Divided_Differences(list(differences))\r\n",
        "test_x = np.linspace(-3, 4, 50, endpoint=True)\r\n",
        "test_y = p(test_x)\r\n",
        "\r\n",
        "#generating 50 points from -3 to 4 in order to create a smooth line\r\n",
        "plt.plot(test_x, test_y)\r\n",
        "plt.plot(data_x, data_y, 'ro')\r\n",
        "plt.show()\r\n"
      ],
      "outputs": [
        {
          "output_type": "display_data",
          "data": {
            "text/plain": [
              "<Figure size 432x288 with 1 Axes>"
            ],
            "image/png": "[encoded data removed]"
          },
          "metadata": {
            "needs_background": "light"
          }
        }
      ],
      "metadata": {
        "deletable": false,
        "editable": false,
        "nbgrader": {
          "cell_type": "code",
          "checksum": "82e83d64a8e01c57af1fcae0c1c59df6",
          "grade": true,
          "grade_id": "cell-a16b9abefbcdc519",
          "locked": true,
          "points": 10,
          "schema_version": 3,
          "solution": false,
          "task": false
        },
        "id": "80GCPNuEFwjE"
      }
    },
    {
      "cell_type": "code",
      "execution_count": null,
      "source": [],
      "outputs": [],
      "metadata": {
        "id": "rVo9Z3XIFwjE"
      }
    }
  ]
}