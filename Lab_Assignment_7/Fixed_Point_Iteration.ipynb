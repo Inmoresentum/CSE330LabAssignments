{
  "cells": [
    {
      "cell_type": "markdown",
      "metadata": {
        "id": "wXPE0ROexyjG"
      },
      "source": [
        "Make sure you remove `raise NotImplementedError()` and fill in any place that says `# YOUR CODE HERE`, as well as your `NAME`, `ID`, and `LAB_SECTION` below:"
      ]
    },
    {
      "cell_type": "code",
      "execution_count": null,
      "metadata": {
        "id": "mJQc9NLkxyjI"
      },
      "outputs": [],
      "source": [
        "NAME = \"ATHAR NOOR MOHAMMAD RAFEE\"\n",
        "ID = \"20101396\"\n",
        "LAB_SECTION = \"6\""
      ]
    },
    {
      "cell_type": "markdown",
      "metadata": {
        "id": "NtfDvRDUxyjK"
      },
      "source": [
        "---"
      ]
    },
    {
      "cell_type": "markdown",
      "metadata": {
        "deletable": false,
        "editable": false,
        "id": "DdpkaSKNxyjK",
        "nbgrader": {
          "cell_type": "markdown",
          "checksum": "ddb3d78c373832ec271c9a3204d39044",
          "grade": false,
          "grade_id": "intro",
          "locked": true,
          "schema_version": 3,
          "solution": false,
          "task": false
        }
      },
      "source": [
        "# Fixed Point Iteration\n",
        "\n",
        "### Fixed point:\n",
        "A number $\\xi$ is called a **fixed point** to function $g(x)$ if $g(\\xi) = \\xi$. Using fixed points are a nice strategy to find roots of an equation. In this method if we are trying to find a root of $f(x) = 0$, we try to write the function in the form, $x = g(x)$. That is,\n",
        "$$\n",
        "f(x) = x - g(x) = 0\n",
        "$$\n",
        "\n",
        "So, if $\\xi$ is a fixed point of $g(x)$ it would also be a root of $f(x)=0$, because,\n",
        "$$\n",
        "f(\\xi) = \\xi - g(\\xi) = \\xi - \\xi = 0\n",
        "$$\n",
        "\n",
        "We can find a suitable $g(x)$ in any number of ways. Not all of them would converge, whereas, Some would converge very fast. For example, consider $Eq. 6.1$.\n",
        "\n",
        "\\begin{align}\n",
        "&         &    f(x) &=x^5 + 2.5x^4 - 2x^3 -6x^2 + x + 2 \\\\\n",
        "&\\implies &x - g(x) &=x^5 + 2.5x^4 - 2x^3 -6x^2 + x + 2 \\\\\n",
        "&\\implies &    g(x) &=-x^5 - 2.5x^4 + 2x^3 + 6x^2 - 2 \\tag{6.2}\\\\\n",
        "\\end{align}\n",
        "\n",
        "again, \n",
        "$$\n",
        "f(x) = x^5 + 2.5x^4 - 2x^3 -6x^2 + x + 2 = 0\\\\\n",
        "$$\n",
        "\\begin{align}\n",
        "&\\implies &6x^2 &= x^5 + 2.5x^4 - 2x^3 + x + 2 \\\\\n",
        "&\\implies &x^2  &= \\frac{1}{6}(x^5 + 2.5x^4 - 2x^3 + x + 2)\\\\\n",
        "&\\implies &x    &= \\sqrt{\\frac{1}{6}(x^5 + 2.5x^4 - 2x^3 + x + 2)}\\\\\n",
        "&\\implies &g(x) &= \\sqrt{\\frac{1}{6}(x^5 + 2.5x^4 - 2x^3 + x + 2)}\\tag{6.3}\\\\\n",
        "\\end{align}\n",
        "\n",
        "Similarly,\n",
        "\\begin{align}\n",
        "&         &2.5x^4 &= -x^5 + 2x^3 + 6x^2 - x - 2 \\\\\n",
        "&\\implies &x^4  &= \\frac{1}{2.5}(-x^5 + 2x^3 + 6x^2 - x - 2)\\\\\n",
        "&\\implies &x    &= \\sqrt[\\leftroot{-1}\\uproot{2}\\scriptstyle 4]{\\frac{1}{2.5}(-x^5 + 2x^3 + 6x^2 - x - 2)}\\\\\n",
        "&\\implies &g(x) &= \\sqrt[\\leftroot{-1}\\uproot{2}\\scriptstyle 4]{\\frac{1}{2.5}(-x^5 + 2x^3 + 6x^2 - x - 2)}\\tag{6.4}\\\\\n",
        "\\end{align}\n",
        "\n",
        "### B. Complete the code below\n",
        "For this example we will use a couple of $g(x)$ function to find out which one converges faster."
      ]
    },
    {
      "cell_type": "code",
      "execution_count": null,
      "metadata": {
        "deletable": false,
        "id": "66EX3xLExyjL",
        "nbgrader": {
          "cell_type": "code",
          "checksum": "5f4a24951baac3861aae56802249341f",
          "grade": false,
          "grade_id": "ans",
          "locked": false,
          "schema_version": 3,
          "solution": true,
          "task": false
        }
      },
      "outputs": [],
      "source": [
        "import numpy as np\n",
        "import pandas as pd\n",
        "import matplotlib.pyplot as plt\n",
        "from numpy.polynomial import Polynomial\n",
        "\n",
        "f = Polynomial([2.0, 1.0, -6.0, -2.0, 2.5, 1.0])\n",
        "g1 = Polynomial([-2.0, 0.0, 6.0, 2.0, -2.5, -1.0])\n",
        "\n",
        "def g2(x):\n",
        "    p = Polynomial([2.0, 1.0, 0.0, -2.0, 2.5, 1.0])\n",
        "    return np.sqrt(p(x)/6)\n",
        "\n",
        "def g3(x):\n",
        "    p = Polynomial([-2.0, -1.0, 6.0, 2.0, 0.0, -1.0])\n",
        "    return np.power(p(x)/2.5, 1.0/4.0)\n",
        "\n",
        "a1 = 0.8\n",
        "g1_a = []\n",
        "\n",
        "a2 = 0.8\n",
        "g2_a = []\n",
        "\n",
        "a3 = 0.8\n",
        "g3_a = []\n",
        "\n",
        "# YOUR CODE HERE\n",
        "#raise NotImplementedError()\n",
        "iteration = 1e3\n",
        "i = 0\n",
        "\n",
        "while (i < iteration):\n",
        "    g1_a.append(a1)\n",
        "    g2_a.append(a2)\n",
        "    g3_a.append(a3)\n",
        "    a1 = g1(g1_a[-1])\n",
        "    a2 = g2(g2_a[-1])\n",
        "    a3 = g3(g3_a[-1])\n",
        "    i += 1"
      ]
    },
    {
      "cell_type": "code",
      "execution_count": null,
      "metadata": {
        "deletable": false,
        "editable": false,
        "id": "mhQGCNXxxyjM",
        "nbgrader": {
          "cell_type": "code",
          "checksum": "f301d7bce9186a23df34b47b5de0d570",
          "grade": true,
          "grade_id": "test",
          "locked": true,
          "points": 10,
          "schema_version": 3,
          "solution": false,
          "task": false
        }
      },
      "outputs": [],
      "source": [
        "xs = np.linspace(-2.5, 1.6, 100)\n",
        "ys = f(xs)\n",
        "dictionary = {\n",
        "    'x': xs,\n",
        "    'y': ys\n",
        "}\n",
        "plt.axhline(y=0, color='k')\n",
        "plt.plot(xs, f(xs), label='f(x)')\n",
        "plt.plot(xs, g1(xs), label='g1(x)')\n",
        "plt.plot(xs, g2(xs), label='g2(x)')\n",
        "plt.plot(xs, g3(xs), label='g3(x)')\n",
        "plt.legend()\n",
        "\n",
        "if len(g1_a) > 0:\n",
        "    root = np.array([g1_a[len(g1_a)-1], g2_a[len(g2_a)-1], g3_a[len(g3_a)-1]])\n",
        "    plt.plot(root, f(root), 'ro')\n",
        "\n",
        "print(pd.DataFrame({'g1(x)':g1_a, 'g2(x)':g2_a, 'g3(x))':g3_a,}))\n",
        "\n",
        "# Test case:\n",
        "np.testing.assert_array_almost_equal(root, [-2., 0.67242436, 1.33033625])"
      ]
    },
    {
      "cell_type": "code",
      "execution_count": null,
      "metadata": {
        "id": "KZdEg2f1xyjN"
      },
      "outputs": [],
      "source": []
    }
  ],
  "metadata": {
    "colab": {
      "name": "Fixed_Point_Iteration.ipynb",
      "provenance": []
    },
    "interpreter": {
      "hash": "46971d6258fae1e211635d8bf7f60d4d01846c4e42537e37b5cbd719f8de335b"
    },
    "kernelspec": {
      "display_name": "Python 3.8.3 64-bit",
      "name": "python3"
    },
    "language_info": {
      "codemirror_mode": {
        "name": "ipython",
        "version": 3
      },
      "file_extension": ".py",
      "mimetype": "text/x-python",
      "name": "python",
      "nbconvert_exporter": "python",
      "pygments_lexer": "ipython3",
      "version": "3.8.3"
    }
  },
  "nbformat": 4,
  "nbformat_minor": 2
}
